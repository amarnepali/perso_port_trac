{
 "cells": [
  {
   "cell_type": "code",
   "execution_count": null,
   "id": "8f99f649",
   "metadata": {
    "vscode": {
     "languageId": "plaintext"
    }
   },
   "outputs": [],
   "source": [
    "import yfinance as yf\n",
    "def fetch_stock_data(ticker: str, start:str = \"2025-05-01\", end:str =\"2025-05-15\"):\n",
    "  stock = yf.Ticker(ticker)\n",
    "  print(\"stock fetch data\",stock)\n",
    "  return stock.history(start=start, end=end)\n",
    "\n",
    "def download_stock_per_min_data(ticker:str, start:str = \"2025-05-15\", end:str =\"2025-05-16\"):\n",
    "  stock = yf.download(ticker, start=start, end=end, interval=\"2m\")\n",
    "  print(\"downloaded one \", stock)\n",
    "  return stock\n",
    "\n",
    "\n",
    "\n"
   ]
  },
  {
   "cell_type": "code",
   "execution_count": null,
   "id": "fac6f410",
   "metadata": {
    "vscode": {
     "languageId": "plaintext"
    }
   },
   "outputs": [],
   "source": [
    "df_apple_Per2min = download_stock_per_min_data(\"CBA.AX\")\n",
    "\n",
    "df_apple_Per2min.head()"
   ]
  },
  {
   "cell_type": "code",
   "execution_count": null,
   "id": "afeaa546",
   "metadata": {
    "vscode": {
     "languageId": "plaintext"
    }
   },
   "outputs": [],
   "source": [
    "# Using dataframe df_apple_Per2min: time sereis plot on close price using matplot and seaborn\n",
    "\n",
    "import matplotlib.pyplot as plt\n",
    "import seaborn as sns\n",
    "\n",
    "# Plotting the time series of the 'Close' price\n",
    "plt.figure(figsize=(12, 6))\n",
    "# Use the DataFrame's index (which is a DatetimeIndex) for the x-axis\n",
    "sns.lineplot(x=df_apple_Per2min.index, y=df_apple_Per2min['Close'].squeeze())\n",
    "plt.title('AAPL Close Price Over Time')\n",
    "plt.xlabel('DateTime')\n",
    "plt.ylabel('Close Price')\n",
    "plt.xticks(rotation=45)\n",
    "plt.tight_layout()\n",
    "plt.show()"
   ]
  },
  {
   "cell_type": "code",
   "execution_count": null,
   "id": "7ac0b2da",
   "metadata": {
    "vscode": {
     "languageId": "plaintext"
    }
   },
   "outputs": [],
   "source": [
    "# synchronous request\n",
    "\n",
    "import yfinance as yf\n",
    "\n",
    "# define your message callback\n",
    "def message_handler(message):\n",
    "    print(\"Received message:\", message)\n",
    "\n",
    "# =======================\n",
    "# With Context Manager\n",
    "# =======================\n",
    "with yf.WebSocket() as ws:\n",
    "    ws.subscribe([\"AAPL\", \"BTC-USD\"])\n",
    "    ws.listen(message_handler)\n",
    "\n",
    "# =======================\n",
    "# Without Context Manager\n",
    "# =======================\n",
    "ws = yf.WebSocket()\n",
    "ws.subscribe([\"AAPL\", \"BTC-USD\"])\n",
    "ws.listen(message_handler)"
   ]
  },
  {
   "cell_type": "code",
   "execution_count": null,
   "id": "dd7b1dc4",
   "metadata": {
    "vscode": {
     "languageId": "plaintext"
    }
   },
   "outputs": [],
   "source": [
    "\n",
    "\n",
    "\n",
    "# lets move with live market Update\n",
    "import asyncio\n",
    "# define your message callback\n",
    "def message_handler(message):\n",
    "    print(\"Received message:\", message)\n",
    "\n",
    "async def main():\n",
    "    # =======================\n",
    "    # With Context Manager\n",
    "    # =======================\n",
    "    async with yf.AsyncWebSocket() as ws:\n",
    "        await ws.subscribe([\"AAPL\", \"BTC-USD\"])\n",
    "        await ws.listen()\n",
    "\n",
    "    # =======================\n",
    "    # Without Context Manager\n",
    "    # =======================\n",
    "    ws = yf.AsyncWebSocket()\n",
    "    await ws.subscribe([\"AAPL\", \"BTC-USD\"])\n",
    "    await ws.listen()\n",
    "\n",
    "asyncio.run(main())\n",
    "\n",
    "\n",
    "\n"
   ]
  }
 ],
 "metadata": {
  "language_info": {
   "name": "python"
  }
 },
 "nbformat": 4,
 "nbformat_minor": 5
}
